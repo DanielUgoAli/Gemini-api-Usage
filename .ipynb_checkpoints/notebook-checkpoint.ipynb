{
 "cells": [
  {
   "cell_type": "code",
   "execution_count": 5,
   "id": "52476518-4462-4080-9b44-c066d6796cde",
   "metadata": {},
   "outputs": [
    {
     "name": "stdout",
     "output_type": "stream",
     "text": [
      "A school is a complex and multifaceted institution with various definitions depending on the context. Here are some key aspects:\n",
      "\n",
      "**Formal Definition:**\n",
      "\n",
      "* **An institution for educating children.** This is the most common and basic definition, encompassing primary, secondary, and higher education institutions.\n",
      "* **A place where students learn from teachers.** This emphasizes the role of instruction and guidance in the learning process.\n",
      "* **A structured environment with a curriculum and assessments.** This highlights the organized nature of schooling, with specific learning objectives and methods of evaluation.\n",
      "\n",
      "**Beyond the Formal:**\n",
      "\n",
      "* **A community of learners and educators.** Schools foster a sense of belonging and shared purpose among students, teachers, and staff.\n",
      "* **A place for social and emotional development.**  Schools play a crucial role in shaping students' social skills, emotional intelligence, and values.\n",
      "* **A catalyst for personal growth and societal progress.** Education empowers individuals and contributes to the advancement of knowledge, innovation, and social well-being.\n",
      "\n",
      "**Types of Schools:**\n",
      "\n",
      "* **Public schools:** Funded by the government and open to all students.\n",
      "* **Private schools:** Funded by tuition fees and often have specific religious or philosophical affiliations.\n",
      "* **Charter schools:** Publicly funded but operate independently with more flexibility in curriculum and management.\n",
      "* **Homeschooling:** Education provided by parents or guardians at home.\n",
      "\n",
      "**Key Functions:**\n",
      "\n",
      "* **Transmission of knowledge and skills.** Schools impart essential knowledge and skills in various subjects, preparing students for future careers and life.\n",
      "* **Development of critical thinking and problem-solving abilities.** Schools encourage students to analyze information, think critically, and solve problems effectively.\n",
      "* **Cultivation of creativity and innovation.** Schools foster creativity and innovation by providing opportunities for exploration, experimentation, and artistic expression.\n",
      "* **Socialization and citizenship education.** Schools promote social interaction, cooperation, and responsible citizenship.\n",
      "\n",
      "**In essence, a school is a dynamic and evolving institution that plays a vital role in shaping individuals and society. It is a place where learning, growth, and development occur, preparing students for a successful and fulfilling life.**\n",
      "\n"
     ]
    }
   ],
   "source": [
    "# Normal text_based task\n",
    "import google.generativeai as genai\n",
    "import dotenv\n",
    "import os\n",
    "\n",
    "dotenv.load_dotenv()\n",
    "genai.configure(api_key=os.getenv(\"GOOGLE_API_KEY\"))\n",
    "\n",
    "generation_configuration = {\n",
    "    \"temperature\": 0.2,\n",
    "    \"top_p\": 0.8,\n",
    "    \"top_k\": 64,\n",
    "    \"max_output_tokens\": 8192\n",
    "}\n",
    "\n",
    "model = genai.GenerativeModel(model_name=\"gemini-1.5-flash\",\n",
    "                              generation_config=generation_configuration)\n",
    "model_response = model.generate_content(\"Define a school\")\n",
    "print(model_response.text)"
   ]
  },
  {
   "cell_type": "code",
   "execution_count": 7,
   "id": "5e1a07ff-750a-49f2-a26d-3dd827fc1024",
   "metadata": {},
   "outputs": [
    {
     "name": "stdout",
     "output_type": "stream",
     "text": [
      "File Name: D:\\vault\\gemini api gihub\\image.jpg\n",
      "\n",
      "This\n",
      " is a picture of a wooden brush with black bristles. The brush is lying on a wooden\n",
      " surface. The brush is made of wood and has a handle that is slightly curved. The\n",
      " bristles are short and dense. The brush is in good condition and appears to be new. The wooden surface is light brown and has a grain pattern. The brush is\n",
      " in focus, while the background is slightly blurred.\n"
     ]
    }
   ],
   "source": [
    "# For vision tasks (picture upload)\n",
    "from PIL import Image\n",
    "\n",
    "pic = Image.open(\"image.jpg\")\n",
    "print(f\"File Name: {pic.filename}\\n\")\n",
    "try:\n",
    "    pic = genai.upload_file(path=\"image.jpg\")\n",
    "    model_ans = model.generate_content([pic, \"Tell me about the image\"], stream=True)\n",
    "    for chunk in model_ans:\n",
    "        print(chunk.text)\n",
    "except Exception as e:\n",
    "    print(f\"An error occured: {e}\")"
   ]
  },
  {
   "cell_type": "code",
   "execution_count": 8,
   "id": "89e9c4cb-620e-461f-868d-23c6b75441d2",
   "metadata": {},
   "outputs": [
    {
     "name": "stdout",
     "output_type": "stream",
     "text": [
      "Nigeria\n",
      ", a vibrant and diverse nation, faces a multitude of challenges that impact its citizens\n",
      " and its future. Here are some of the most pressing problems:\n",
      "\n",
      "**Economic Challenges:**\n",
      "\n",
      "\n",
      "* **Poverty and Inequality:** Despite being Africa's largest economy, Nigeria has a high poverty rate.  A significant portion of the population lives below the poverty line\n",
      ", with a wide gap between the rich and the poor.\n",
      "* **Unemployment:**  High unemployment, particularly among young people, is a major concern. This\n",
      " fuels social unrest and hinders economic growth.\n",
      "* **Corruption:**  Corruption is endemic, hindering good governance and diverting resources from essential services.\n",
      "* **Dependence on Oil:**  Nigeria's economy is heavily reliant on oil exports,\n",
      " making it vulnerable to global oil price fluctuations. Diversification of the economy is crucial.\n",
      "* **Infrastructure Deficiencies:**  Inadequate infrastructure, including power, transportation, and communication, hampers economic development and productivity.\n",
      "\n",
      "**Political Challenges:**\n",
      "\n",
      "*\n",
      " **Political Instability:**  Nigeria has experienced periods of political instability, including military coups and ethnic tensions.\n",
      "* **Weak Institutions:**  Weak institutions, including the judiciary and law enforcement, contribute to corruption and lack of accountability.\n",
      "* **Insecurity:**  The country faces various security threats, including terrorism, banditry,\n",
      " and communal violence, particularly in the north.\n",
      "* **Ethnic and Religious Divisions:**  Ethnic and religious tensions can lead to conflict and hinder national unity.\n",
      "\n",
      "**Social Challenges:**\n",
      "\n",
      "* **Education:**  The quality of education is uneven, with significant disparities between urban and rural areas.\n",
      "* **Healthcare:**  Access\n",
      " to quality healthcare is limited, particularly in rural areas.\n",
      "* **Environmental Degradation:**  Deforestation, pollution, and climate change pose significant threats to the environment and livelihoods.\n",
      "* **Population Growth:**  Rapid population growth puts pressure on resources and infrastructure.\n",
      "\n",
      "**Other Challenges:**\n",
      "\n",
      "* **Lack of Diversification:**  \n",
      "The economy is heavily reliant on oil, making it vulnerable to global price fluctuations.\n",
      "* **Weak Governance:**  Corruption and lack of accountability hinder good governance and economic development.\n",
      "* **Lack of Investment:**  Insufficient investment in infrastructure and human capital hinders economic growth.\n",
      "\n",
      "**Addressing the Challenges:**\n",
      "\n",
      "Nigeria faces significant challenges\n",
      ", but there are also opportunities for progress. Addressing these problems requires:\n",
      "\n",
      "* **Good Governance:**  Strengthening institutions, promoting transparency and accountability, and fighting corruption.\n",
      "* **Economic Diversification:**  Moving away from oil dependence and investing in other sectors, such as agriculture, manufacturing, and technology.\n",
      "*\n",
      " **Investing in Infrastructure:**  Improving power, transportation, and communication infrastructure to boost productivity and economic growth.\n",
      "* **Investing in Human Capital:**  Improving education and healthcare to create a skilled workforce.\n",
      "* **Promoting National Unity:**  Addressing ethnic and religious tensions and fostering a sense of national identity.\n",
      "\n",
      "It's important\n",
      " to note that these are just some of the major challenges facing Nigeria. The country is complex and diverse, and there are many other issues that need to be addressed. However, by working together, Nigerians can overcome these challenges and build a brighter future for themselves and their children. \n",
      "\n"
     ]
    }
   ],
   "source": [
    " # Auto chat history\n",
    "chat = model.start_chat(history=[])\n",
    "try:\n",
    "    prompt = \"Tell me about Nigeria's problems\"\n",
    "    response = chat.send_message(content=prompt, stream=True)\n",
    "    for chunk in response:\n",
    "        print(chunk.text)\n",
    "except Exception as e:\n",
    "    print(f\"An error occured: {e}\")"
   ]
  },
  {
   "cell_type": "code",
   "execution_count": 1,
   "id": "212905b3-c597-4c0e-b29d-95bbbc9f8c4c",
   "metadata": {},
   "outputs": [],
   "source": [
    "# 😓 For some reason trying to display the chat history kills my jupyter kernel"
   ]
  },
  {
   "cell_type": "code",
   "execution_count": null,
   "id": "93c4e29a-494b-4269-ad16-fec374f7064b",
   "metadata": {},
   "outputs": [],
   "source": []
  }
 ],
 "metadata": {
  "kernelspec": {
   "display_name": "api_project",
   "language": "python",
   "name": "api_project"
  },
  "language_info": {
   "codemirror_mode": {
    "name": "ipython",
    "version": 3
   },
   "file_extension": ".py",
   "mimetype": "text/x-python",
   "name": "python",
   "nbconvert_exporter": "python",
   "pygments_lexer": "ipython3",
   "version": "3.12.4"
  }
 },
 "nbformat": 4,
 "nbformat_minor": 5
}
